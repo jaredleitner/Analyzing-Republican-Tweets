{
 "cells": [
  {
   "cell_type": "code",
   "execution_count": 1,
   "metadata": {},
   "outputs": [
    {
     "name": "stdout",
     "output_type": "stream",
     "text": [
      "getting tweets before 893140886078582788\n",
      "...400 tweets downloaded so far\n",
      "getting tweets before 791361822016274431\n",
      "...600 tweets downloaded so far\n",
      "getting tweets before 693888787219283968\n",
      "...800 tweets downloaded so far\n",
      "getting tweets before 668866334923472895\n",
      "...999 tweets downloaded so far\n",
      "getting tweets before 653585890716065791\n",
      "...1199 tweets downloaded so far\n",
      "getting tweets before 635883008638083071\n",
      "...1399 tweets downloaded so far\n",
      "getting tweets before 622106775198781439\n",
      "...1599 tweets downloaded so far\n",
      "getting tweets before 608693037301116927\n",
      "...1799 tweets downloaded so far\n",
      "getting tweets before 586977274882162688\n",
      "...1999 tweets downloaded so far\n",
      "getting tweets before 568563750904721407\n",
      "...2199 tweets downloaded so far\n",
      "getting tweets before 554646477700866047\n",
      "...2398 tweets downloaded so far\n",
      "getting tweets before 529844698777944064\n",
      "...2598 tweets downloaded so far\n",
      "getting tweets before 501637409432293375\n",
      "...2796 tweets downloaded so far\n",
      "getting tweets before 468757529204248575\n",
      "...2995 tweets downloaded so far\n",
      "getting tweets before 446008930578079743\n",
      "...3195 tweets downloaded so far\n",
      "getting tweets before 403970631752220671\n",
      "...3213 tweets downloaded so far\n",
      "getting tweets before 403631001114783743\n",
      "...3213 tweets downloaded so far\n"
     ]
    }
   ],
   "source": [
    "from utils.user_tweet_scrapper import get_all_tweets\n",
    "\n",
    "# Example\n",
    "screen_name = \"RickSantorum\"\n",
    "sample = get_all_tweets(screen_name)"
   ]
  },
  {
   "cell_type": "code",
   "execution_count": 2,
   "metadata": {},
   "outputs": [
    {
     "data": {
      "text/plain": [
       "['1105592411504431105',\n",
       " datetime.datetime(2019, 3, 12, 22, 12, 26),\n",
       " b'RT @USAEnergy: AESI Co-Chairs @JimTalent &amp; @RickSantorum urge @EPA to \\xe2\\x80\\x9clet nothing stand in their way\\xe2\\x80\\x9d on new rule that will \\xe2\\x80\\x9censure that r\\xe2\\x80\\xa6',\n",
       " 0,\n",
       " 9,\n",
       " '',\n",
       " '']"
      ]
     },
     "execution_count": 2,
     "metadata": {},
     "output_type": "execute_result"
    }
   ],
   "source": [
    "sample[0]"
   ]
  },
  {
   "cell_type": "code",
   "execution_count": null,
   "metadata": {},
   "outputs": [],
   "source": [
    "candidate     = [\"realDonaldTrump\", \"JohnKasich\", \"tedcruz\", \"marcorubio\", \"SecretaryCarson\", \"JebBush\", \n",
    "                 \"gov_gilmore\", \"ChrisChristie\", \"CarlyFiorina\", \"RandPaul\", \"RickSantorum\", \"GovMikeHuckabee\"]\n",
    "\n",
    "candidate_alt = [\"TeamTrump\", \"TeamJohnKasich\", \"SenTedCruz\", \"TeamTedCruz\", \"SenRubioPress\", \"TeamMarco\", \n",
    "                 \"RealBenCarson\", \"healerhauler\", \"GovChristie\", \"DrRandPaul\"]\n",
    "\n",
    "withdrew      = [\"GovernorPataki\", \"GrahamBlog\", \"BobbyJindal\", \"ScottWalker\", \"GovernorPerry\"]\n",
    "\n",
    "withdrew_alt  = [\"LindseyGrahamSC\", \"GovWalker\", \"SecretaryPerry\", \"TeamRickPerry\"]\n",
    "\n",
    "for user in candidate:\n",
    "    get_all_tweets(user)\n",
    "\n",
    "for user in withdrew:\n",
    "    get_all_tweets(user)"
   ]
  }
 ],
 "metadata": {
  "kernelspec": {
   "display_name": "Python 3",
   "language": "python",
   "name": "python3"
  },
  "language_info": {
   "codemirror_mode": {
    "name": "ipython",
    "version": 3
   },
   "file_extension": ".py",
   "mimetype": "text/x-python",
   "name": "python",
   "nbconvert_exporter": "python",
   "pygments_lexer": "ipython3",
   "version": "3.7.1"
  }
 },
 "nbformat": 4,
 "nbformat_minor": 2
}
